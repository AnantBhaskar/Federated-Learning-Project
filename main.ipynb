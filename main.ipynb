{
 "cells": [
  {
   "cell_type": "code",
   "execution_count": 57,
   "metadata": {},
   "outputs": [],
   "source": [
    "### Importing all the necessary libraries\n",
    "\n",
    "import numpy as np\n",
    "import pandas as pd\n",
    "from sklearn.preprocessing import OneHotEncoder, LabelEncoder\n",
    "from sklearn.model_selection import train_test_split\n",
    "from sklearn.preprocessing import StandardScaler, MinMaxScaler\n",
    "from sklearn.metrics import accuracy_score, f1_score, precision_score, recall_score, classification_report, confusion_matrix\n",
    "import tensorflow as tf\n",
    "tf.config.experimental_run_functions_eagerly(True)\n",
    "from tensorflow import keras\n",
    "from tensorflow.keras import layers\n",
    "from tensorflow.keras.models import Sequential, load_model\n",
    "from tensorflow.keras.layers import Dense, Dropout, Flatten, BatchNormalization\n",
    "from tensorflow.keras.layers import Conv1D, MaxPooling1D\n",
    "from tensorflow.keras.callbacks import ModelCheckpoint, EarlyStopping\n",
    "from tensorflow.keras.utils import to_categorical\n",
    "import time, os, psutil, csv\n",
    "from itertools import repeat\n",
    "from PIL import Image\n",
    "from numpy import asarray\n",
    "from sklearn.metrics import roc_auc_score, roc_curve, precision_recall_curve, auc\n",
    "import matplotlib.pyplot as plt\n"
   ]
  },
  {
   "cell_type": "code",
   "execution_count": 58,
   "metadata": {},
   "outputs": [],
   "source": [
    "\n",
    "# =============================================================================\n",
    "#  Loading Data\n",
    "# =============================================================================\n",
    "\n",
    "# Load training and testing datasets\n",
    "train_data = pd.read_csv('train_split_all_genes_rs20.csv', on_bad_lines='skip')\n",
    "test_data = pd.read_csv('test_split_all_genes_rs20.csv', on_bad_lines='skip')\n",
    "\n"
   ]
  },
  {
   "cell_type": "code",
   "execution_count": 59,
   "metadata": {},
   "outputs": [
    {
     "name": "stdout",
     "output_type": "stream",
     "text": [
      "xTrain shape: (450, 16270, 1) yTrain shape: (450, 1)\n",
      "xTest shape: (51, 16270, 1) yTest shape: (51, 1)\n"
     ]
    },
    {
     "name": "stderr",
     "output_type": "stream",
     "text": [
      "/opt/homebrew/lib/python3.11/site-packages/keras/src/layers/convolutional/base_conv.py:107: UserWarning: Do not pass an `input_shape`/`input_dim` argument to a layer. When using Sequential models, prefer using an `Input(shape)` object as the first layer in the model instead.\n",
      "  super().__init__(activity_regularizer=activity_regularizer, **kwargs)\n",
      "/opt/homebrew/lib/python3.11/site-packages/tensorflow/python/data/ops/structured_function.py:258: UserWarning: Even though the `tf.config.experimental_run_functions_eagerly` option is set, this option does not apply to tf.data functions. To force eager execution of tf.data functions, please use `tf.data.experimental.enable_debug_mode()`.\n",
      "  warnings.warn(\n",
      "WARNING:absl:You are saving your model as an HDF5 file via `model.save()` or `keras.saving.save_model(model)`. This file format is considered legacy. We recommend using instead the native Keras format, e.g. `model.save('my_model.keras')` or `keras.saving.save_model(model, 'my_model.keras')`. \n"
     ]
    },
    {
     "name": "stdout",
     "output_type": "stream",
     "text": [
      "Iteration 1\n",
      "clientID 0\n",
      "clientID 1\n",
      "clientID 2\n",
      "clientID 3\n",
      "clientID 4\n"
     ]
    },
    {
     "name": "stderr",
     "output_type": "stream",
     "text": [
      "WARNING:absl:You are saving your model as an HDF5 file via `model.save()` or `keras.saving.save_model(model)`. This file format is considered legacy. We recommend using instead the native Keras format, e.g. `model.save('my_model.keras')` or `keras.saving.save_model(model, 'my_model.keras')`. \n"
     ]
    },
    {
     "name": "stdout",
     "output_type": "stream",
     "text": [
      "Server's model updated\n",
      "Saving model . . .\n",
      "\u001b[1m2/2\u001b[0m \u001b[32m━━━━━━━━━━━━━━━━━━━━\u001b[0m\u001b[37m\u001b[0m \u001b[1m0s\u001b[0m 28ms/step\n",
      "Accuracy  : 0.8823529411764706\n",
      "Precision : 0.8859840232389253\n",
      "Recall    : 0.8823529411764706\n",
      "F1-Score  : 0.8828096455973694\n",
      "Confusion Matrix:\n",
      " [[20  2]\n",
      " [ 4 25]]\n",
      "Acc:\n",
      " 0.8823529411764706\n",
      "Prec:\n",
      " 0.8859840232389253\n",
      "Recall:\n",
      " 0.8823529411764706\n",
      "F1-Score:\n",
      " 0.8828096455973694\n",
      "Iteration 2\n",
      "clientID 0\n"
     ]
    },
    {
     "name": "stderr",
     "output_type": "stream",
     "text": [
      "/opt/homebrew/lib/python3.11/site-packages/tensorflow/python/data/ops/structured_function.py:258: UserWarning: Even though the `tf.config.experimental_run_functions_eagerly` option is set, this option does not apply to tf.data functions. To force eager execution of tf.data functions, please use `tf.data.experimental.enable_debug_mode()`.\n",
      "  warnings.warn(\n"
     ]
    },
    {
     "name": "stdout",
     "output_type": "stream",
     "text": [
      "clientID 1\n",
      "clientID 2\n",
      "clientID 3\n",
      "clientID 4\n"
     ]
    },
    {
     "name": "stderr",
     "output_type": "stream",
     "text": [
      "WARNING:absl:You are saving your model as an HDF5 file via `model.save()` or `keras.saving.save_model(model)`. This file format is considered legacy. We recommend using instead the native Keras format, e.g. `model.save('my_model.keras')` or `keras.saving.save_model(model, 'my_model.keras')`. \n"
     ]
    },
    {
     "name": "stdout",
     "output_type": "stream",
     "text": [
      "Server's model updated\n",
      "Saving model . . .\n",
      "\u001b[1m2/2\u001b[0m \u001b[32m━━━━━━━━━━━━━━━━━━━━\u001b[0m\u001b[37m\u001b[0m \u001b[1m0s\u001b[0m 26ms/step\n",
      "Accuracy  : 0.9019607843137255\n",
      "Precision : 0.9062177502579979\n",
      "Recall    : 0.9019607843137255\n",
      "F1-Score  : 0.9007847841255654\n",
      "Confusion Matrix:\n",
      " [[18  4]\n",
      " [ 1 28]]\n",
      "Acc:\n",
      " 0.9019607843137255\n",
      "Prec:\n",
      " 0.9062177502579979\n",
      "Recall:\n",
      " 0.9019607843137255\n",
      "F1-Score:\n",
      " 0.9007847841255654\n",
      "Iteration 3\n",
      "clientID 0\n"
     ]
    },
    {
     "name": "stderr",
     "output_type": "stream",
     "text": [
      "/opt/homebrew/lib/python3.11/site-packages/tensorflow/python/data/ops/structured_function.py:258: UserWarning: Even though the `tf.config.experimental_run_functions_eagerly` option is set, this option does not apply to tf.data functions. To force eager execution of tf.data functions, please use `tf.data.experimental.enable_debug_mode()`.\n",
      "  warnings.warn(\n"
     ]
    },
    {
     "name": "stdout",
     "output_type": "stream",
     "text": [
      "clientID 1\n",
      "clientID 2\n",
      "clientID 3\n",
      "clientID 4\n"
     ]
    },
    {
     "name": "stderr",
     "output_type": "stream",
     "text": [
      "WARNING:absl:You are saving your model as an HDF5 file via `model.save()` or `keras.saving.save_model(model)`. This file format is considered legacy. We recommend using instead the native Keras format, e.g. `model.save('my_model.keras')` or `keras.saving.save_model(model, 'my_model.keras')`. \n"
     ]
    },
    {
     "name": "stdout",
     "output_type": "stream",
     "text": [
      "Server's model updated\n",
      "Saving model . . .\n",
      "\u001b[1m2/2\u001b[0m \u001b[32m━━━━━━━━━━━━━━━━━━━━\u001b[0m\u001b[37m\u001b[0m \u001b[1m0s\u001b[0m 26ms/step\n",
      "Accuracy  : 0.8235294117647058\n",
      "Precision : 0.8407770515613652\n",
      "Recall    : 0.8235294117647058\n",
      "F1-Score  : 0.8242089288545609\n",
      "Confusion Matrix:\n",
      " [[20  2]\n",
      " [ 7 22]]\n",
      "Acc:\n",
      " 0.8235294117647058\n",
      "Prec:\n",
      " 0.8407770515613652\n",
      "Recall:\n",
      " 0.8235294117647058\n",
      "F1-Score:\n",
      " 0.8242089288545609\n",
      "Iteration 4\n",
      "clientID 0\n"
     ]
    },
    {
     "name": "stderr",
     "output_type": "stream",
     "text": [
      "/opt/homebrew/lib/python3.11/site-packages/tensorflow/python/data/ops/structured_function.py:258: UserWarning: Even though the `tf.config.experimental_run_functions_eagerly` option is set, this option does not apply to tf.data functions. To force eager execution of tf.data functions, please use `tf.data.experimental.enable_debug_mode()`.\n",
      "  warnings.warn(\n"
     ]
    },
    {
     "name": "stdout",
     "output_type": "stream",
     "text": [
      "clientID 1\n",
      "clientID 2\n",
      "clientID 3\n",
      "clientID 4\n"
     ]
    },
    {
     "name": "stderr",
     "output_type": "stream",
     "text": [
      "WARNING:absl:You are saving your model as an HDF5 file via `model.save()` or `keras.saving.save_model(model)`. This file format is considered legacy. We recommend using instead the native Keras format, e.g. `model.save('my_model.keras')` or `keras.saving.save_model(model, 'my_model.keras')`. \n"
     ]
    },
    {
     "name": "stdout",
     "output_type": "stream",
     "text": [
      "Server's model updated\n",
      "Saving model . . .\n",
      "\u001b[1m2/2\u001b[0m \u001b[32m━━━━━━━━━━━━━━━━━━━━\u001b[0m\u001b[37m\u001b[0m \u001b[1m0s\u001b[0m 27ms/step\n",
      "Accuracy  : 0.8431372549019608\n",
      "Precision : 0.8435800126502214\n",
      "Recall    : 0.8431372549019608\n",
      "F1-Score  : 0.8420168067226891\n",
      "Confusion Matrix:\n",
      " [[17  5]\n",
      " [ 3 26]]\n",
      "Acc:\n",
      " 0.8431372549019608\n",
      "Prec:\n",
      " 0.8435800126502214\n",
      "Recall:\n",
      " 0.8431372549019608\n",
      "F1-Score:\n",
      " 0.8420168067226891\n",
      "Iteration 5\n",
      "clientID 0\n"
     ]
    },
    {
     "name": "stderr",
     "output_type": "stream",
     "text": [
      "/opt/homebrew/lib/python3.11/site-packages/tensorflow/python/data/ops/structured_function.py:258: UserWarning: Even though the `tf.config.experimental_run_functions_eagerly` option is set, this option does not apply to tf.data functions. To force eager execution of tf.data functions, please use `tf.data.experimental.enable_debug_mode()`.\n",
      "  warnings.warn(\n"
     ]
    },
    {
     "name": "stdout",
     "output_type": "stream",
     "text": [
      "clientID 1\n",
      "clientID 2\n",
      "clientID 3\n",
      "clientID 4\n"
     ]
    },
    {
     "name": "stderr",
     "output_type": "stream",
     "text": [
      "WARNING:absl:You are saving your model as an HDF5 file via `model.save()` or `keras.saving.save_model(model)`. This file format is considered legacy. We recommend using instead the native Keras format, e.g. `model.save('my_model.keras')` or `keras.saving.save_model(model, 'my_model.keras')`. \n"
     ]
    },
    {
     "name": "stdout",
     "output_type": "stream",
     "text": [
      "Server's model updated\n",
      "Saving model . . .\n",
      "\u001b[1m2/2\u001b[0m \u001b[32m━━━━━━━━━━━━━━━━━━━━\u001b[0m\u001b[37m\u001b[0m \u001b[1m0s\u001b[0m 27ms/step\n",
      "Accuracy  : 0.8431372549019608\n",
      "Precision : 0.8486829075064369\n",
      "Recall    : 0.8431372549019608\n",
      "F1-Score  : 0.8403542061986085\n",
      "Confusion Matrix:\n",
      " [[16  6]\n",
      " [ 2 27]]\n",
      "Acc:\n",
      " 0.8431372549019608\n",
      "Prec:\n",
      " 0.8486829075064369\n",
      "Recall:\n",
      " 0.8431372549019608\n",
      "F1-Score:\n",
      " 0.8403542061986085\n",
      "Iteration 6\n",
      "clientID 0\n"
     ]
    },
    {
     "name": "stderr",
     "output_type": "stream",
     "text": [
      "/opt/homebrew/lib/python3.11/site-packages/tensorflow/python/data/ops/structured_function.py:258: UserWarning: Even though the `tf.config.experimental_run_functions_eagerly` option is set, this option does not apply to tf.data functions. To force eager execution of tf.data functions, please use `tf.data.experimental.enable_debug_mode()`.\n",
      "  warnings.warn(\n"
     ]
    },
    {
     "name": "stdout",
     "output_type": "stream",
     "text": [
      "clientID 1\n",
      "clientID 2\n",
      "clientID 3\n",
      "clientID 4\n"
     ]
    },
    {
     "name": "stderr",
     "output_type": "stream",
     "text": [
      "WARNING:absl:You are saving your model as an HDF5 file via `model.save()` or `keras.saving.save_model(model)`. This file format is considered legacy. We recommend using instead the native Keras format, e.g. `model.save('my_model.keras')` or `keras.saving.save_model(model, 'my_model.keras')`. \n"
     ]
    },
    {
     "name": "stdout",
     "output_type": "stream",
     "text": [
      "Server's model updated\n",
      "Saving model . . .\n",
      "\u001b[1m2/2\u001b[0m \u001b[32m━━━━━━━━━━━━━━━━━━━━\u001b[0m\u001b[37m\u001b[0m \u001b[1m0s\u001b[0m 26ms/step\n",
      "Accuracy  : 0.9215686274509803\n",
      "Precision : 0.9250181554103122\n",
      "Recall    : 0.9215686274509803\n",
      "F1-Score  : 0.9218730970649128\n",
      "Confusion Matrix:\n",
      " [[21  1]\n",
      " [ 3 26]]\n",
      "Acc:\n",
      " 0.9215686274509803\n",
      "Prec:\n",
      " 0.9250181554103122\n",
      "Recall:\n",
      " 0.9215686274509803\n",
      "F1-Score:\n",
      " 0.9218730970649128\n",
      "Iteration 7\n",
      "clientID 0\n"
     ]
    },
    {
     "name": "stderr",
     "output_type": "stream",
     "text": [
      "/opt/homebrew/lib/python3.11/site-packages/tensorflow/python/data/ops/structured_function.py:258: UserWarning: Even though the `tf.config.experimental_run_functions_eagerly` option is set, this option does not apply to tf.data functions. To force eager execution of tf.data functions, please use `tf.data.experimental.enable_debug_mode()`.\n",
      "  warnings.warn(\n"
     ]
    },
    {
     "name": "stdout",
     "output_type": "stream",
     "text": [
      "clientID 1\n",
      "clientID 2\n",
      "clientID 3\n",
      "clientID 4\n"
     ]
    },
    {
     "name": "stderr",
     "output_type": "stream",
     "text": [
      "WARNING:absl:You are saving your model as an HDF5 file via `model.save()` or `keras.saving.save_model(model)`. This file format is considered legacy. We recommend using instead the native Keras format, e.g. `model.save('my_model.keras')` or `keras.saving.save_model(model, 'my_model.keras')`. \n"
     ]
    },
    {
     "name": "stdout",
     "output_type": "stream",
     "text": [
      "Server's model updated\n",
      "Saving model . . .\n",
      "\u001b[1m2/2\u001b[0m \u001b[32m━━━━━━━━━━━━━━━━━━━━\u001b[0m\u001b[37m\u001b[0m \u001b[1m0s\u001b[0m 28ms/step\n",
      "Accuracy  : 0.8431372549019608\n",
      "Precision : 0.8435800126502214\n",
      "Recall    : 0.8431372549019608\n",
      "F1-Score  : 0.8420168067226891\n",
      "Confusion Matrix:\n",
      " [[17  5]\n",
      " [ 3 26]]\n",
      "Acc:\n",
      " 0.8431372549019608\n",
      "Prec:\n",
      " 0.8435800126502214\n",
      "Recall:\n",
      " 0.8431372549019608\n",
      "F1-Score:\n",
      " 0.8420168067226891\n",
      "Iteration 8\n",
      "clientID 0\n"
     ]
    },
    {
     "name": "stderr",
     "output_type": "stream",
     "text": [
      "/opt/homebrew/lib/python3.11/site-packages/tensorflow/python/data/ops/structured_function.py:258: UserWarning: Even though the `tf.config.experimental_run_functions_eagerly` option is set, this option does not apply to tf.data functions. To force eager execution of tf.data functions, please use `tf.data.experimental.enable_debug_mode()`.\n",
      "  warnings.warn(\n"
     ]
    },
    {
     "name": "stdout",
     "output_type": "stream",
     "text": [
      "clientID 1\n",
      "clientID 2\n",
      "clientID 3\n",
      "clientID 4\n"
     ]
    },
    {
     "name": "stderr",
     "output_type": "stream",
     "text": [
      "WARNING:absl:You are saving your model as an HDF5 file via `model.save()` or `keras.saving.save_model(model)`. This file format is considered legacy. We recommend using instead the native Keras format, e.g. `model.save('my_model.keras')` or `keras.saving.save_model(model, 'my_model.keras')`. \n"
     ]
    },
    {
     "name": "stdout",
     "output_type": "stream",
     "text": [
      "Server's model updated\n",
      "Saving model . . .\n",
      "\u001b[1m2/2\u001b[0m \u001b[32m━━━━━━━━━━━━━━━━━━━━\u001b[0m\u001b[37m\u001b[0m \u001b[1m0s\u001b[0m 53ms/step\n",
      "Accuracy  : 0.9411764705882353\n",
      "Precision : 0.9482352941176471\n",
      "Recall    : 0.9411764705882353\n",
      "F1-Score  : 0.941449539196723\n",
      "Confusion Matrix:\n",
      " [[22  0]\n",
      " [ 3 26]]\n",
      "Acc:\n",
      " 0.9411764705882353\n",
      "Prec:\n",
      " 0.9482352941176471\n",
      "Recall:\n",
      " 0.9411764705882353\n",
      "F1-Score:\n",
      " 0.941449539196723\n",
      "Iteration 9\n",
      "clientID 0\n"
     ]
    },
    {
     "name": "stderr",
     "output_type": "stream",
     "text": [
      "/opt/homebrew/lib/python3.11/site-packages/tensorflow/python/data/ops/structured_function.py:258: UserWarning: Even though the `tf.config.experimental_run_functions_eagerly` option is set, this option does not apply to tf.data functions. To force eager execution of tf.data functions, please use `tf.data.experimental.enable_debug_mode()`.\n",
      "  warnings.warn(\n"
     ]
    },
    {
     "name": "stdout",
     "output_type": "stream",
     "text": [
      "clientID 1\n",
      "clientID 2\n",
      "clientID 3\n",
      "clientID 4\n"
     ]
    },
    {
     "name": "stderr",
     "output_type": "stream",
     "text": [
      "WARNING:absl:You are saving your model as an HDF5 file via `model.save()` or `keras.saving.save_model(model)`. This file format is considered legacy. We recommend using instead the native Keras format, e.g. `model.save('my_model.keras')` or `keras.saving.save_model(model, 'my_model.keras')`. \n"
     ]
    },
    {
     "name": "stdout",
     "output_type": "stream",
     "text": [
      "Server's model updated\n",
      "Saving model . . .\n",
      "\u001b[1m2/2\u001b[0m \u001b[32m━━━━━━━━━━━━━━━━━━━━\u001b[0m\u001b[37m\u001b[0m \u001b[1m0s\u001b[0m 26ms/step\n",
      "Accuracy  : 0.9019607843137255\n",
      "Precision : 0.9031177688466692\n",
      "Recall    : 0.9019607843137255\n",
      "F1-Score  : 0.9021901158124068\n",
      "Confusion Matrix:\n",
      " [[20  2]\n",
      " [ 3 26]]\n",
      "Acc:\n",
      " 0.9019607843137255\n",
      "Prec:\n",
      " 0.9031177688466692\n",
      "Recall:\n",
      " 0.9019607843137255\n",
      "F1-Score:\n",
      " 0.9021901158124068\n",
      "Iteration 10\n",
      "clientID 0\n"
     ]
    },
    {
     "name": "stderr",
     "output_type": "stream",
     "text": [
      "/opt/homebrew/lib/python3.11/site-packages/tensorflow/python/data/ops/structured_function.py:258: UserWarning: Even though the `tf.config.experimental_run_functions_eagerly` option is set, this option does not apply to tf.data functions. To force eager execution of tf.data functions, please use `tf.data.experimental.enable_debug_mode()`.\n",
      "  warnings.warn(\n"
     ]
    },
    {
     "name": "stdout",
     "output_type": "stream",
     "text": [
      "clientID 1\n",
      "clientID 2\n",
      "clientID 3\n",
      "clientID 4\n"
     ]
    },
    {
     "name": "stderr",
     "output_type": "stream",
     "text": [
      "WARNING:absl:You are saving your model as an HDF5 file via `model.save()` or `keras.saving.save_model(model)`. This file format is considered legacy. We recommend using instead the native Keras format, e.g. `model.save('my_model.keras')` or `keras.saving.save_model(model, 'my_model.keras')`. \n"
     ]
    },
    {
     "name": "stdout",
     "output_type": "stream",
     "text": [
      "Server's model updated\n",
      "Saving model . . .\n",
      "\u001b[1m2/2\u001b[0m \u001b[32m━━━━━━━━━━━━━━━━━━━━\u001b[0m\u001b[37m\u001b[0m \u001b[1m0s\u001b[0m 27ms/step\n",
      "Accuracy  : 0.9019607843137255\n",
      "Precision : 0.9031177688466692\n",
      "Recall    : 0.9019607843137255\n",
      "F1-Score  : 0.9021901158124068\n",
      "Confusion Matrix:\n",
      " [[20  2]\n",
      " [ 3 26]]\n",
      "Acc:\n",
      " 0.9019607843137255\n",
      "Prec:\n",
      " 0.9031177688466692\n",
      "Recall:\n",
      " 0.9019607843137255\n",
      "F1-Score:\n",
      " 0.9021901158124068\n",
      "---Memory--- 8.934783935546875\n",
      "--- 185.66153979301453 seconds (TRAINING)---\n",
      "Epoch 1/10\n",
      "\u001b[1m1/3\u001b[0m \u001b[32m━━━━━━\u001b[0m\u001b[37m━━━━━━━━━━━━━━\u001b[0m \u001b[1m0s\u001b[0m 157ms/step - accuracy: 1.0000 - loss: 0.0040"
     ]
    },
    {
     "name": "stderr",
     "output_type": "stream",
     "text": [
      "/opt/homebrew/lib/python3.11/site-packages/tensorflow/python/data/ops/structured_function.py:258: UserWarning: Even though the `tf.config.experimental_run_functions_eagerly` option is set, this option does not apply to tf.data functions. To force eager execution of tf.data functions, please use `tf.data.experimental.enable_debug_mode()`.\n",
      "  warnings.warn(\n"
     ]
    },
    {
     "name": "stdout",
     "output_type": "stream",
     "text": [
      "\u001b[1m3/3\u001b[0m \u001b[32m━━━━━━━━━━━━━━━━━━━━\u001b[0m\u001b[37m\u001b[0m \u001b[1m1s\u001b[0m 228ms/step - accuracy: 1.0000 - loss: 0.0023 - val_accuracy: 0.9020 - val_loss: 0.3786\n",
      "Epoch 2/10\n",
      "\u001b[1m3/3\u001b[0m \u001b[32m━━━━━━━━━━━━━━━━━━━━\u001b[0m\u001b[37m\u001b[0m \u001b[1m1s\u001b[0m 191ms/step - accuracy: 1.0000 - loss: 4.2648e-04 - val_accuracy: 0.9216 - val_loss: 0.3872\n",
      "Epoch 3/10\n",
      "\u001b[1m3/3\u001b[0m \u001b[32m━━━━━━━━━━━━━━━━━━━━\u001b[0m\u001b[37m\u001b[0m \u001b[1m1s\u001b[0m 263ms/step - accuracy: 1.0000 - loss: 8.7842e-06 - val_accuracy: 0.9216 - val_loss: 0.3956\n",
      "Epoch 4/10\n",
      "\u001b[1m3/3\u001b[0m \u001b[32m━━━━━━━━━━━━━━━━━━━━\u001b[0m\u001b[37m\u001b[0m \u001b[1m1s\u001b[0m 224ms/step - accuracy: 1.0000 - loss: 2.5680e-05 - val_accuracy: 0.9216 - val_loss: 0.4040\n",
      "Epoch 5/10\n",
      "\u001b[1m3/3\u001b[0m \u001b[32m━━━━━━━━━━━━━━━━━━━━\u001b[0m\u001b[37m\u001b[0m \u001b[1m1s\u001b[0m 215ms/step - accuracy: 1.0000 - loss: 1.0130e-06 - val_accuracy: 0.9216 - val_loss: 0.4143\n",
      "Epoch 6/10\n",
      "\u001b[1m3/3\u001b[0m \u001b[32m━━━━━━━━━━━━━━━━━━━━\u001b[0m\u001b[37m\u001b[0m \u001b[1m1s\u001b[0m 186ms/step - accuracy: 1.0000 - loss: 2.1473e-05 - val_accuracy: 0.9216 - val_loss: 0.4234\n",
      "Epoch 7/10\n",
      "\u001b[1m3/3\u001b[0m \u001b[32m━━━━━━━━━━━━━━━━━━━━\u001b[0m\u001b[37m\u001b[0m \u001b[1m1s\u001b[0m 201ms/step - accuracy: 1.0000 - loss: 1.5190e-05 - val_accuracy: 0.9216 - val_loss: 0.4319\n",
      "Epoch 8/10\n",
      "\u001b[1m3/3\u001b[0m \u001b[32m━━━━━━━━━━━━━━━━━━━━\u001b[0m\u001b[37m\u001b[0m \u001b[1m1s\u001b[0m 200ms/step - accuracy: 1.0000 - loss: 2.3478e-06 - val_accuracy: 0.9216 - val_loss: 0.4386\n",
      "Epoch 9/10\n",
      "\u001b[1m3/3\u001b[0m \u001b[32m━━━━━━━━━━━━━━━━━━━━\u001b[0m\u001b[37m\u001b[0m \u001b[1m1s\u001b[0m 275ms/step - accuracy: 1.0000 - loss: 1.7294e-06 - val_accuracy: 0.9216 - val_loss: 0.4437\n",
      "Epoch 10/10\n",
      "\u001b[1m3/3\u001b[0m \u001b[32m━━━━━━━━━━━━━━━━━━━━\u001b[0m\u001b[37m\u001b[0m \u001b[1m1s\u001b[0m 199ms/step - accuracy: 1.0000 - loss: 6.5999e-06 - val_accuracy: 0.9020 - val_loss: 0.4484\n",
      "\u001b[1m2/2\u001b[0m \u001b[32m━━━━━━━━━━━━━━━━━━━━\u001b[0m\u001b[37m\u001b[0m \u001b[1m0s\u001b[0m 27ms/step\n"
     ]
    },
    {
     "name": "stderr",
     "output_type": "stream",
     "text": [
      "/opt/homebrew/lib/python3.11/site-packages/tensorflow/python/data/ops/structured_function.py:258: UserWarning: Even though the `tf.config.experimental_run_functions_eagerly` option is set, this option does not apply to tf.data functions. To force eager execution of tf.data functions, please use `tf.data.experimental.enable_debug_mode()`.\n",
      "  warnings.warn(\n",
      "WARNING:absl:You are saving your model as an HDF5 file via `model.save()` or `keras.saving.save_model(model)`. This file format is considered legacy. We recommend using instead the native Keras format, e.g. `model.save('my_model.keras')` or `keras.saving.save_model(model, 'my_model.keras')`. \n"
     ]
    },
    {
     "name": "stdout",
     "output_type": "stream",
     "text": [
      "Accuracy  : 0.9019607843137255\n",
      "Precision : 0.9031177688466692\n",
      "Recall    : 0.9019607843137255\n",
      "F1-Score  : 0.9021901158124068\n",
      "Confusion Matrix:\n",
      " [[20  2]\n",
      " [ 3 26]]\n",
      "Number of users: 5\n",
      "Epochs: 10\n",
      "BatchSize: 64\n",
      "Activation: relu Optimizer: Adam\n",
      "Iterations: 10\n",
      "Memory: 8.934783935546875\n",
      "Time: 185.66153979301453\n",
      "   Clients  Iterations to converge  Accuracy     Loss    Memory       Time\n",
      "0      5.0                    10.0  0.901961  0.44839  8.934784  185.66154\n",
      "   Accuracy  Precision    Recall  F1-Score\n",
      "0  0.882353   0.885984  0.882353  0.882810\n",
      "1  0.901961   0.906218  0.901961  0.900785\n",
      "2  0.823529   0.840777  0.823529  0.824209\n",
      "3  0.843137   0.843580  0.843137  0.842017\n",
      "4  0.843137   0.848683  0.843137  0.840354\n",
      "5  0.921569   0.925018  0.921569  0.921873\n",
      "6  0.843137   0.843580  0.843137  0.842017\n",
      "7  0.941176   0.948235  0.941176  0.941450\n",
      "8  0.901961   0.903118  0.901961  0.902190\n",
      "9  0.901961   0.903118  0.901961  0.902190\n",
      "\u001b[1m1/2\u001b[0m \u001b[32m━━━━━━━━━━\u001b[0m\u001b[37m━━━━━━━━━━\u001b[0m \u001b[1m0s\u001b[0m 30ms/step"
     ]
    },
    {
     "name": "stderr",
     "output_type": "stream",
     "text": [
      "/opt/homebrew/lib/python3.11/site-packages/tensorflow/python/data/ops/structured_function.py:258: UserWarning: Even though the `tf.config.experimental_run_functions_eagerly` option is set, this option does not apply to tf.data functions. To force eager execution of tf.data functions, please use `tf.data.experimental.enable_debug_mode()`.\n",
      "  warnings.warn(\n"
     ]
    },
    {
     "name": "stdout",
     "output_type": "stream",
     "text": [
      "\u001b[1m2/2\u001b[0m \u001b[32m━━━━━━━━━━━━━━━━━━━━\u001b[0m\u001b[37m\u001b[0m \u001b[1m0s\u001b[0m 27ms/step\n",
      "ROC AUC Score: 0.9608150470219435\n",
      "Precision-Recall AUC Score: 0.9773593680114157\n"
     ]
    },
    {
     "data": {
      "image/png": "[encoded data removed]",
      "text/plain": [
       "<Figure size 800x600 with 1 Axes>"
      ]
     },
     "metadata": {},
     "output_type": "display_data"
    },
    {
     "data": {
      "image/png": "[encoded data removed]",
      "text/plain": [
       "<Figure size 800x600 with 1 Axes>"
      ]
     },
     "metadata": {},
     "output_type": "display_data"
    }
   ],
   "source": [
    "\n",
    "# =============================================================================\n",
    "# 1. Data  Setup\n",
    "# =============================================================================\n",
    "\n",
    "# - Column 0: \"Label\" (0 = non-PDAC, 1 = PDAC)\n",
    "# - Column 1: \"Sample\" (identifier)\n",
    "# - Columns 2 Gene expression features\n",
    "\n",
    "# Extract features and labels\n",
    "X_train = train_data.iloc[:, :-1].values  # All columns except the last (features)\n",
    "Y_train = train_data.iloc[:, -1].values   # Last column (labels)\n",
    "\n",
    "X_test = test_data.iloc[:, :-1].values  # All columns except the last (features)\n",
    "Y_test = test_data.iloc[:, -1].values   # Last column (labels)\n",
    "\n",
    "xTrain = xTrain.reshape(xTrain.shape[0], -1)\n",
    "xTest = xTest.reshape(xTest.shape[0], -1)\n",
    "\n",
    "# =============================================================================\n",
    "# 2. Data Preprocessing\n",
    "# =============================================================================\n",
    "\n",
    "# Converting to float32 to ensure compatibility with TensorFlow\n",
    "xTrain = xTrain.astype('float32')\n",
    "xTest = xTest.astype('float32')\n",
    "\n",
    "# Normalizing using StandardScaler (appropriate for gene expression data)\n",
    "scaler = StandardScaler()\n",
    "xTrain = scaler.fit_transform(xTrain)\n",
    "xTest = scaler.transform(xTest)\n",
    "\n",
    "# Defining the algorithm type: 'CNN'\n",
    "algoName = 'CNN'\n",
    "if algoName == 'CNN':\n",
    "    # Expanding dimensions for Conv1D: expected input shape is (samples, features, channels)\n",
    "    xTrain = np.expand_dims(xTrain, axis=2)\n",
    "    xTest = np.expand_dims(xTest, axis=2)\n",
    "\n",
    "yTrain = yTrain.reshape(-1, 1).astype('float32')\n",
    "yTest = yTest.reshape(-1, 1).astype('float32')\n",
    "\n",
    "print(\"xTrain shape:\", xTrain.shape, \"yTrain shape:\", yTrain.shape)\n",
    "print(\"xTest shape:\", xTest.shape, \"yTest shape:\", yTest.shape)\n",
    "\n",
    "# Further splitting training data into server and client portions for federated learning\n",
    "xServer, xClients, yServer, yClients = train_test_split(xTrain, yTrain, test_size=0.80, random_state=523)\n",
    "\n",
    "# =============================================================================\n",
    "# 3. Helper Functions and Model Creation\n",
    "# =============================================================================\n",
    "\n",
    "def my_metrics(y_true, y_pred):\n",
    "    # For binary prediction, thresholding the sigmoid output at 0.5\n",
    "    pred = (y_pred > 0.5).astype(int)\n",
    "    true = y_true.astype(int)\n",
    "    accuracy = accuracy_score(true, pred)\n",
    "    precision = precision_score(true, pred, average='weighted', zero_division=0)\n",
    "    recall = recall_score(true, pred, average='weighted', zero_division=0)\n",
    "    f1Score = f1_score(true, pred, average='weighted', zero_division=0)\n",
    "    print(\"Accuracy  : {}\".format(accuracy))\n",
    "    print(\"Precision : {}\".format(precision))\n",
    "    print(\"Recall    : {}\".format(recall))\n",
    "    print(\"F1-Score  : {}\".format(f1Score))\n",
    "    cm = confusion_matrix(true, pred)\n",
    "    print(\"Confusion Matrix:\\n\", cm)\n",
    "    return accuracy, precision, recall, f1Score\n",
    "\n",
    "verbose, epochs, batch_size = 0, 10, 64\n",
    "activationFun = 'relu'\n",
    "optimizerName = 'Adam'\n",
    "\n",
    "def createDeepModel():\n",
    "    model = Sequential()\n",
    "    if algoName == 'CNN':\n",
    "        model.add(Conv1D(filters=10, kernel_size=3, activation=activationFun, input_shape=(X_full.shape[1], 1)))\n",
    "        model.add(Dropout(0.1))\n",
    "        model.add(MaxPooling1D(pool_size=3))\n",
    "        model.add(BatchNormalization())\n",
    "        \n",
    "        model.add(Conv1D(filters=5, kernel_size=3, activation=activationFun))\n",
    "        model.add(Dropout(0.05))\n",
    "        model.add(MaxPooling1D(pool_size=3))\n",
    "        model.add(BatchNormalization())\n",
    "        \n",
    "        model.add(Flatten())\n",
    "        model.add(Dense(100, activation=activationFun))\n",
    "        model.add(Dense(50, activation=activationFun))\n",
    "        model.add(Dense(30, activation=activationFun))\n",
    "        model.add(Dense(1, activation='sigmoid'))\n",
    "        model.compile(loss='binary_crossentropy', optimizer=optimizerName, metrics=['accuracy'])\n",
    "        \n",
    "    elif algoName == 'ANN':\n",
    "        model.add(Dense(200, input_dim=X_full.shape[1], activation=activationFun))\n",
    "        model.add(Flatten())\n",
    "        model.add(Dense(1, activation='sigmoid'))\n",
    "        model.compile(loss='binary_crossentropy', optimizer=optimizerName, metrics=['accuracy'])\n",
    "        \n",
    "    elif algoName == 'DNN':\n",
    "        model.add(Dense(200, input_dim=X_full.shape[1], activation=activationFun))\n",
    "        model.add(Dense(100, activation=activationFun))\n",
    "        model.add(Dense(50, activation=activationFun))\n",
    "        model.add(Dense(25, activation=activationFun))\n",
    "        model.add(Flatten())\n",
    "        model.add(Dense(1, activation='sigmoid'))\n",
    "        model.compile(loss='binary_crossentropy', optimizer=optimizerName, metrics=['accuracy'])\n",
    "    return model\n",
    "\n",
    "def predictTestData(yPredict, yTest):\n",
    "    return my_metrics(yTest, yPredict)\n",
    "\n",
    "def sumOfWeights(weights):\n",
    "    return sum(map(sum, weights))\n",
    "\n",
    "def getWeights(model):\n",
    "    return model.get_weights()\n",
    "\n",
    "# Initializing the central deep model\n",
    "deepModel = createDeepModel()\n",
    "\n",
    "# =============================================================================\n",
    "# 4. Federated Learning Simulation Setup\n",
    "# =============================================================================\n",
    "\n",
    "numOfIterations = 10\n",
    "numOfClients = 5\n",
    "modelLocation = \"Models/\" + str(algoName) + \"_Sync_users_\" + str(numOfClients) + \"_\" + activationFun + \"_\" + optimizerName + \"_FL_Model.h5\"\n",
    "accList, precList, recallList, f1List = [], [], [], []\n",
    "deepModelAggWeights = []\n",
    "firstClientFlag = True\n",
    "\n",
    "def updateServerModel(clientModel, clientModelWeight):\n",
    "    global firstClientFlag\n",
    "    for ind in range(len(clientModelWeight)):\n",
    "        if firstClientFlag:\n",
    "            deepModelAggWeights.append(clientModelWeight[ind])\n",
    "        else:\n",
    "            deepModelAggWeights[ind] = (deepModelAggWeights[ind] + clientModelWeight[ind])\n",
    "\n",
    "def updateClientsModels():\n",
    "    global clientsModelList, deepModel\n",
    "    clientsModelList.clear()\n",
    "    for clientID in range(numOfClients):\n",
    "        m = keras.models.clone_model(deepModel)\n",
    "        m.set_weights(deepModel.get_weights())\n",
    "        clientsModelList.append(m)\n",
    "\n",
    "# ----- 1. Training central model initially on server data -----\n",
    "def trainInServer():\n",
    "    deepModel.fit(xServer, yServer, epochs=epochs, batch_size=batch_size, verbose=verbose)\n",
    "    deepModel.save(modelLocation)\n",
    "trainInServer()\n",
    "\n",
    "# ----- 2. Preparing client data and initialize client models -----\n",
    "xClientsList = []\n",
    "yClientsList = []\n",
    "clientsModelList = []\n",
    "clientDataInterval = len(xClients) // numOfClients\n",
    "lastLowerBound = 0\n",
    "\n",
    "for clientID in range(numOfClients):\n",
    "    xClientsList.append(xClients[lastLowerBound: lastLowerBound + clientDataInterval])\n",
    "    yClientsList.append(yClients[lastLowerBound: lastLowerBound + clientDataInterval])\n",
    "    # Loading the model without the old optimizer state\n",
    "    model = load_model(modelLocation, compile=False)\n",
    "    # Recompiling the model with a fresh optimizer instance\n",
    "    model.compile(loss='binary_crossentropy', optimizer=optimizerName, metrics=['accuracy'])\n",
    "    clientsModelList.append(model)\n",
    "    lastLowerBound += clientDataInterval\n",
    "\n",
    "# Performing initial local training on each client's model\n",
    "for clientID in range(numOfClients):\n",
    "    clientsModelList[clientID].fit(xClientsList[clientID], yClientsList[clientID], epochs=epochs, batch_size=batch_size, verbose=verbose)\n",
    "        \n",
    "start_time = time.time()\n",
    "process = psutil.Process(os.getpid())\n",
    "\n",
    "# ----- 3. Federated Learning Rounds -----\n",
    "for iterationNo in range(1, numOfIterations + 1):\n",
    "    print(\"Iteration\", iterationNo)\n",
    "    for clientID in range(numOfClients):\n",
    "        print(\"clientID\", clientID)\n",
    "        clientsModelList[clientID].compile(loss='binary_crossentropy', optimizer='adam', metrics=['accuracy'])\n",
    "        clientsModelList[clientID].fit(xClientsList[clientID], yClientsList[clientID], epochs=epochs, batch_size=batch_size, verbose=verbose)\n",
    "        clientWeight = clientsModelList[clientID].get_weights()\n",
    "        updateServerModel(clientsModelList[clientID], clientWeight)\n",
    "        firstClientFlag = False\n",
    "    # Averaging the accumulated weights from all clients\n",
    "    for ind in range(len(deepModelAggWeights)):\n",
    "        deepModelAggWeights[ind] /= numOfClients\n",
    "\n",
    "    dw_last = deepModel.get_weights()\n",
    "    for ind in range(len(deepModelAggWeights)):\n",
    "        dw_last[ind] = deepModelAggWeights[ind]\n",
    "     \n",
    "    # Updating the central model with the aggregated weights\n",
    "    deepModel.set_weights(dw_last)\n",
    "    print(\"Server's model updated\")\n",
    "    print(\"Saving model . . .\")\n",
    "    deepModel.save(modelLocation)\n",
    "    # Distributing the updated central model to all clients\n",
    "    updateClientsModels()\n",
    "    firstClientFlag = True\n",
    "    deepModelAggWeights.clear()\n",
    "\n",
    "    yPredict = deepModel.predict(xTest)\n",
    "    acc, prec, recall, f1Score = predictTestData(yPredict, yTest)\n",
    "    accList.append(acc)\n",
    "    precList.append(prec)\n",
    "    recallList.append(recall)\n",
    "    f1List.append(f1Score)\n",
    "    print(\"Acc:\\n\", acc)\n",
    "    print(\"Prec:\\n\", prec)\n",
    "    print(\"Recall:\\n\", recall)\n",
    "    print(\"F1-Score:\\n\", f1Score)\n",
    "\n",
    "memoryTraining = process.memory_percent()\n",
    "timeTraining = time.time() - start_time\n",
    "print(\"---Memory---\", memoryTraining)\n",
    "print(\"--- %s seconds (TRAINING)---\" % (timeTraining))\n",
    "\n",
    "early_stopping = EarlyStopping(monitor='val_loss', patience=5, verbose=0, mode='auto')\n",
    "history = deepModel.fit(xServer, yServer, epochs=epochs, validation_data=(xTest, yTest))\n",
    "learningAccs = history.history['val_accuracy']\n",
    "learningLoss = history.history['val_loss']\n",
    "\n",
    "# Save key performance indicators into a DataFrame\n",
    "dfSave = pd.DataFrame(columns=['Clients', 'Iterations to converge', 'Accuracy', 'Loss', 'Memory', 'Time'])\n",
    "dfSaveIndex = 0\n",
    "saveList = [numOfClients, len(learningLoss), learningAccs[-1], learningLoss[-1], memoryTraining, timeTraining]\n",
    "dfSave.loc[dfSaveIndex] = saveList\n",
    "\n",
    "yPredict = deepModel.predict(xTest)\n",
    "acc, prec, recall, f1Score = predictTestData(yPredict, yTest)\n",
    "\n",
    "print(\"Number of users:\", numOfClients)\n",
    "deepModel.save(modelLocation)\n",
    "print(\"Epochs:\", epochs)\n",
    "print(\"BatchSize:\", batch_size)\n",
    "print(\"Activation:\", activationFun, \"Optimizer:\", optimizerName)\n",
    "print(\"Iterations:\", numOfIterations)\n",
    "print(\"Memory:\", memoryTraining)\n",
    "print(\"Time:\", timeTraining)\n",
    "print(dfSave)\n",
    "\n",
    "df_performance_timeRounds = pd.DataFrame({\n",
    "    'Accuracy': accList,\n",
    "    'Precision': precList,\n",
    "    'Recall': recallList,\n",
    "    'F1-Score': f1List \n",
    "})\n",
    "print(df_performance_timeRounds)\n",
    "\n",
    "# =============================================================================\n",
    "# 5. Alternative Evaluation Metrics: ROC and Precision-Recall Curves\n",
    "# =============================================================================\n",
    "\n",
    "# Importing additional evaluation metrics and plotting libraries\n",
    "from sklearn.metrics import roc_auc_score, roc_curve, precision_recall_curve, auc\n",
    "import matplotlib.pyplot as plt\n",
    "\n",
    "# Getting prediction probabilities from the model (sigmoid outputs)\n",
    "y_scores = deepModel.predict(xTest).ravel()  # flatten predictions\n",
    "\n",
    "# Computing ROC AUC\n",
    "roc_auc = roc_auc_score(yTest, y_scores)\n",
    "fpr, tpr, thresholds = roc_curve(yTest, y_scores)\n",
    "\n",
    "# Computing Precision-Recall AUC\n",
    "precision, recall, pr_thresholds = precision_recall_curve(yTest, y_scores)\n",
    "pr_auc = auc(recall, precision)\n",
    "\n",
    "print(\"ROC AUC Score:\", roc_auc)\n",
    "print(\"Precision-Recall AUC Score:\", pr_auc)\n",
    "\n",
    "# Plotting ROC Curve\n",
    "plt.figure(figsize=(8, 6))\n",
    "plt.plot(fpr, tpr, label=f'ROC curve (AUC = {roc_auc:.2f})')\n",
    "plt.plot([0, 1], [0, 1], 'k--')\n",
    "plt.xlabel('False Positive Rate')\n",
    "plt.ylabel('True Positive Rate')\n",
    "plt.title('ROC Curve')\n",
    "plt.legend(loc='lower right')\n",
    "plt.show()\n",
    "\n",
    "# Plotting Precision-Recall Curve\n",
    "plt.figure(figsize=(8, 6))\n",
    "plt.plot(recall, precision, label=f'Precision-Recall curve (AUC = {pr_auc:.2f})')\n",
    "plt.xlabel('Recall')\n",
    "plt.ylabel('Precision')\n",
    "plt.title('Precision-Recall Curve')\n",
    "plt.legend(loc='lower left')\n",
    "plt.show()\n",
    "\n"
   ]
  },
  {
   "cell_type": "code",
   "execution_count": 55,
   "metadata": {},
   "outputs": [
    {
     "name": "stdout",
     "output_type": "stream",
     "text": [
      "Training on Fold 1/5...\n"
     ]
    },
    {
     "name": "stderr",
     "output_type": "stream",
     "text": [
      "/opt/homebrew/lib/python3.11/site-packages/keras/src/layers/convolutional/base_conv.py:107: UserWarning: Do not pass an `input_shape`/`input_dim` argument to a layer. When using Sequential models, prefer using an `Input(shape)` object as the first layer in the model instead.\n",
      "  super().__init__(activity_regularizer=activity_regularizer, **kwargs)\n",
      "/opt/homebrew/lib/python3.11/site-packages/tensorflow/python/data/ops/structured_function.py:258: UserWarning: Even though the `tf.config.experimental_run_functions_eagerly` option is set, this option does not apply to tf.data functions. To force eager execution of tf.data functions, please use `tf.data.experimental.enable_debug_mode()`.\n",
      "  warnings.warn(\n"
     ]
    },
    {
     "name": "stdout",
     "output_type": "stream",
     "text": [
      "\u001b[1m3/3\u001b[0m \u001b[32m━━━━━━━━━━━━━━━━━━━━\u001b[0m\u001b[37m\u001b[0m \u001b[1m0s\u001b[0m 30ms/step\n",
      "Accuracy  : 0.7666666666666667\n",
      "Precision : 0.7734189723320158\n",
      "Recall    : 0.7666666666666667\n",
      "F1-Score  : 0.7676810334119986\n",
      "Confusion Matrix:\n",
      " [[31  8]\n",
      " [13 38]]\n",
      "Fold 1 Results - Training Accuracy: 0.9917, Validation Accuracy: 0.7667\n",
      "Training on Fold 2/5...\n"
     ]
    },
    {
     "name": "stderr",
     "output_type": "stream",
     "text": [
      "/opt/homebrew/lib/python3.11/site-packages/keras/src/layers/convolutional/base_conv.py:107: UserWarning: Do not pass an `input_shape`/`input_dim` argument to a layer. When using Sequential models, prefer using an `Input(shape)` object as the first layer in the model instead.\n",
      "  super().__init__(activity_regularizer=activity_regularizer, **kwargs)\n",
      "/opt/homebrew/lib/python3.11/site-packages/tensorflow/python/data/ops/structured_function.py:258: UserWarning: Even though the `tf.config.experimental_run_functions_eagerly` option is set, this option does not apply to tf.data functions. To force eager execution of tf.data functions, please use `tf.data.experimental.enable_debug_mode()`.\n",
      "  warnings.warn(\n"
     ]
    },
    {
     "name": "stdout",
     "output_type": "stream",
     "text": [
      "\u001b[1m3/3\u001b[0m \u001b[32m━━━━━━━━━━━━━━━━━━━━\u001b[0m\u001b[37m\u001b[0m \u001b[1m0s\u001b[0m 27ms/step\n",
      "Accuracy  : 0.8555555555555555\n",
      "Precision : 0.8584325396825396\n",
      "Recall    : 0.8555555555555555\n",
      "F1-Score  : 0.856041900486345\n",
      "Confusion Matrix:\n",
      " [[34  5]\n",
      " [ 8 43]]\n",
      "Fold 2 Results - Training Accuracy: 0.9972, Validation Accuracy: 0.8556\n",
      "Training on Fold 3/5...\n"
     ]
    },
    {
     "name": "stderr",
     "output_type": "stream",
     "text": [
      "/opt/homebrew/lib/python3.11/site-packages/keras/src/layers/convolutional/base_conv.py:107: UserWarning: Do not pass an `input_shape`/`input_dim` argument to a layer. When using Sequential models, prefer using an `Input(shape)` object as the first layer in the model instead.\n",
      "  super().__init__(activity_regularizer=activity_regularizer, **kwargs)\n",
      "/opt/homebrew/lib/python3.11/site-packages/tensorflow/python/data/ops/structured_function.py:258: UserWarning: Even though the `tf.config.experimental_run_functions_eagerly` option is set, this option does not apply to tf.data functions. To force eager execution of tf.data functions, please use `tf.data.experimental.enable_debug_mode()`.\n",
      "  warnings.warn(\n"
     ]
    },
    {
     "name": "stdout",
     "output_type": "stream",
     "text": [
      "\u001b[1m3/3\u001b[0m \u001b[32m━━━━━━━━━━━━━━━━━━━━\u001b[0m\u001b[37m\u001b[0m \u001b[1m0s\u001b[0m 27ms/step\n",
      "Accuracy  : 0.7333333333333333\n",
      "Precision : 0.7776623376623377\n",
      "Recall    : 0.7333333333333333\n",
      "F1-Score  : 0.7312221672439386\n",
      "Confusion Matrix:\n",
      " [[35  4]\n",
      " [20 31]]\n",
      "Fold 3 Results - Training Accuracy: 0.9194, Validation Accuracy: 0.7333\n",
      "Training on Fold 4/5...\n"
     ]
    },
    {
     "name": "stderr",
     "output_type": "stream",
     "text": [
      "/opt/homebrew/lib/python3.11/site-packages/keras/src/layers/convolutional/base_conv.py:107: UserWarning: Do not pass an `input_shape`/`input_dim` argument to a layer. When using Sequential models, prefer using an `Input(shape)` object as the first layer in the model instead.\n",
      "  super().__init__(activity_regularizer=activity_regularizer, **kwargs)\n",
      "/opt/homebrew/lib/python3.11/site-packages/tensorflow/python/data/ops/structured_function.py:258: UserWarning: Even though the `tf.config.experimental_run_functions_eagerly` option is set, this option does not apply to tf.data functions. To force eager execution of tf.data functions, please use `tf.data.experimental.enable_debug_mode()`.\n",
      "  warnings.warn(\n"
     ]
    },
    {
     "name": "stdout",
     "output_type": "stream",
     "text": [
      "\u001b[1m3/3\u001b[0m \u001b[32m━━━━━━━━━━━━━━━━━━━━\u001b[0m\u001b[37m\u001b[0m \u001b[1m0s\u001b[0m 28ms/step\n",
      "Accuracy  : 0.8444444444444444\n",
      "Precision : 0.8490186376381329\n",
      "Recall    : 0.8444444444444444\n",
      "F1-Score  : 0.8450638792102206\n",
      "Confusion Matrix:\n",
      " [[34  5]\n",
      " [ 9 42]]\n",
      "Fold 4 Results - Training Accuracy: 0.9917, Validation Accuracy: 0.8444\n",
      "Training on Fold 5/5...\n"
     ]
    },
    {
     "name": "stderr",
     "output_type": "stream",
     "text": [
      "/opt/homebrew/lib/python3.11/site-packages/keras/src/layers/convolutional/base_conv.py:107: UserWarning: Do not pass an `input_shape`/`input_dim` argument to a layer. When using Sequential models, prefer using an `Input(shape)` object as the first layer in the model instead.\n",
      "  super().__init__(activity_regularizer=activity_regularizer, **kwargs)\n",
      "/opt/homebrew/lib/python3.11/site-packages/tensorflow/python/data/ops/structured_function.py:258: UserWarning: Even though the `tf.config.experimental_run_functions_eagerly` option is set, this option does not apply to tf.data functions. To force eager execution of tf.data functions, please use `tf.data.experimental.enable_debug_mode()`.\n",
      "  warnings.warn(\n"
     ]
    },
    {
     "name": "stdout",
     "output_type": "stream",
     "text": [
      "\u001b[1m3/3\u001b[0m \u001b[32m━━━━━━━━━━━━━━━━━━━━\u001b[0m\u001b[37m\u001b[0m \u001b[1m0s\u001b[0m 31ms/step\n",
      "Accuracy  : 0.8111111111111111\n",
      "Precision : 0.822562582345191\n",
      "Recall    : 0.8111111111111111\n",
      "F1-Score  : 0.8119298245614036\n",
      "Confusion Matrix:\n",
      " [[34  5]\n",
      " [12 39]]\n",
      "Fold 5 Results - Training Accuracy: 0.9333, Validation Accuracy: 0.8111\n",
      "\n",
      "=== Overall 5-Fold Cross-Validation Results ===\n",
      "Average Training Accuracy: 0.9667 ± 0.0332\n",
      "Average Testing (Validation) Accuracy: 0.8022 ± 0.0463\n",
      "Average Precision: 0.8162 ± 0.0353\n",
      "Average Recall: 0.8022 ± 0.0463\n",
      "Average F1-Score: 0.8024 ± 0.0470\n"
     ]
    }
   ],
   "source": [
    "from sklearn.model_selection import StratifiedKFold\n",
    "import numpy as np\n",
    "\n",
    "# K for K-Fold Cross-Validation\n",
    "K = 5  # 5-Fold CV: 4 folds for training, 1 for validation\n",
    "\n",
    "# K-Fold object (Stratified ensures class balance across folds)\n",
    "skf = StratifiedKFold(n_splits=K, shuffle=True, random_state=123)\n",
    "\n",
    "# Lists to store evaluation metrics for each fold\n",
    "training_accuracy_list = []\n",
    "accuracy_list = []\n",
    "precision_list = []\n",
    "recall_list = []\n",
    "f1_list = []\n",
    "\n",
    "# Loop over each fold\n",
    "fold_no = 1\n",
    "for train_idx, val_idx in skf.split(xTrain, yTrain):\n",
    "    print(f\"Training on Fold {fold_no}/{K}...\")\n",
    "\n",
    "    # Splitting the dataset into training and validation sets\n",
    "    xTrain_fold, xVal_fold = xTrain[train_idx], xTrain[val_idx]\n",
    "    yTrain_fold, yVal_fold = yTrain[train_idx], yTrain[val_idx]\n",
    "\n",
    "    # New instance of the CNN model for each fold\n",
    "    model = createDeepModel()\n",
    "\n",
    "    # Training the model using 4 folds (training data)\n",
    "    model.fit(xTrain_fold, yTrain_fold, epochs=epochs, batch_size=batch_size, verbose=0)\n",
    "\n",
    "    # Computing Training Accuracy\n",
    "    train_accuracy = model.evaluate(xTrain_fold, yTrain_fold, verbose=0)[1]  # Accuracy is typically at index 1\n",
    "    training_accuracy_list.append(train_accuracy)  # ✅ Store training accuracy\n",
    "\n",
    "    # Predicting on the validation fold\n",
    "    yPredict = model.predict(xVal_fold)\n",
    "\n",
    "    # Computing Validation Accuracy\n",
    "    acc, prec, rec, f1 = predictTestData(yPredict, yVal_fold)\n",
    "\n",
    "    # Storing performance metrics\n",
    "    accuracy_list.append(acc)\n",
    "    precision_list.append(prec)\n",
    "    recall_list.append(rec)\n",
    "    f1_list.append(f1)\n",
    "\n",
    "    print(f\"Fold {fold_no} Results - Training Accuracy: {train_accuracy:.4f}, Validation Accuracy: {acc:.4f}\")\n",
    "    fold_no += 1\n",
    "\n",
    "# Overall performance across all folds\n",
    "print(f\"\\n=== Overall 5-Fold Cross-Validation Results ===\")\n",
    "print(f\"Average Training Accuracy: {np.mean(training_accuracy_list):.4f} ± {np.std(training_accuracy_list):.4f}\")\n",
    "print(f\"Average Testing (Validation) Accuracy: {np.mean(accuracy_list):.4f} ± {np.std(accuracy_list):.4f}\")\n",
    "print(f\"Average Precision: {np.mean(precision_list):.4f} ± {np.std(precision_list):.4f}\")\n",
    "print(f\"Average Recall: {np.mean(recall_list):.4f} ± {np.std(recall_list):.4f}\")\n",
    "print(f\"Average F1-Score: {np.mean(f1_list):.4f} ± {np.std(f1_list):.4f}\")\n"
   ]
  }
 ],
 "metadata": {
  "language_info": {
   "name": "python"
  }
 },
 "nbformat": 4,
 "nbformat_minor": 2
}
